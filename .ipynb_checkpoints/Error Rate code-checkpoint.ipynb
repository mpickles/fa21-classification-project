{
 "cells": [
  {
   "cell_type": "code",
   "execution_count": null,
   "id": "b5fd3d7f",
   "metadata": {},
   "outputs": [],
   "source": [
    "    def error_rate(self, prediction: np.array, actual:np.array):\n",
    "        error_rate = np.count_nonzero(prediction.flatten()!= actual.flatten())/len(prediction)\n",
    "        return error_rate\n",
    "\n",
    "    def confusion_matrix(prediction: np.array, actual:np.array):\n",
    "        labels = np.unique(actual)\n",
    "        matrix = np.zeros((len(labels) + 1, len(labels)  + 1)).astype(int)\n",
    "\n",
    "        predicted = prediction.flatten()\n",
    "        actual = actual.flatten()\n",
    "\n",
    "        tp = 0\n",
    "        tn = 0\n",
    "        fn = 0\n",
    "        fp = 0\n",
    "\n",
    "        for i in range(len(actual)):\n",
    "            if(predicted[i] == 1 and actual[i] == 1):\n",
    "                tp += 1\n",
    "            if(predicted[i] == 1 and actual[i] == 0):\n",
    "                fp += 1\n",
    "            if(predicted[i] == -1 and actual[i] == 1):\n",
    "                fn += 1\n",
    "            if(predicted[i] == -1 and actual[i] == 0):\n",
    "                tn += 1\n",
    "\n",
    "\n",
    "        matrix[0,0] = tp\n",
    "        matrix[0,1] = fn\n",
    "        matrix[0,2] = tp+fn\n",
    "        matrix[1,0] = fp\n",
    "        matrix[1,1] = tn\n",
    "        matrix[1,2] = tn+fp\n",
    "        matrix[2,0] = tp+fp\n",
    "        matrix[2,1] = tn+fn\n",
    "        matrix[2,2] = (tp+fp)+(tn+fn)\n",
    "\n",
    "\n",
    "        return matrix"
   ]
  }
 ],
 "metadata": {
  "kernelspec": {
   "display_name": "Python 3 (ipykernel)",
   "language": "python",
   "name": "python3"
  },
  "language_info": {
   "codemirror_mode": {
    "name": "ipython",
    "version": 3
   },
   "file_extension": ".py",
   "mimetype": "text/x-python",
   "name": "python",
   "nbconvert_exporter": "python",
   "pygments_lexer": "ipython3",
   "version": "3.8.11"
  }
 },
 "nbformat": 4,
 "nbformat_minor": 5
}
